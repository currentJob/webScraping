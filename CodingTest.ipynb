{
 "cells": [
  {
   "cell_type": "code",
   "execution_count": 357,
   "metadata": {},
   "outputs": [],
   "source": [
    "def solution1(storey):\n",
    "    result = 0\n",
    "    while storey:\n",
    "        while storey % 10 != 0:\n",
    "            if storey % 10 > 5:\n",
    "                storey += 1\n",
    "            else:\n",
    "                storey -= 1\n",
    "            result += 1\n",
    "        storey = int(storey / 10)\n",
    "    return result"
   ]
  },
  {
   "cell_type": "code",
   "execution_count": 358,
   "metadata": {},
   "outputs": [],
   "source": [
    "def solution2(storey):\n",
    "    dic = {}\n",
    "    answer = 0\n",
    "    storey = str(storey)\n",
    "\n",
    "    for i in range(len(storey)):\n",
    "        num = int(storey[i])\n",
    "        dic[i] = num\n",
    "\n",
    "    for i in reversed(dic):\n",
    "        if dic[i] > 5:\n",
    "            answer += 10 - dic[i]\n",
    "            dic[i-1] += 1\n",
    "        else:\n",
    "            answer += dic[i]\n",
    "\n",
    "    return answer"
   ]
  },
  {
   "cell_type": "code",
   "execution_count": 359,
   "metadata": {},
   "outputs": [],
   "source": [
    "def solution3(storey):\n",
    "    answer = 0\n",
    "    tmp = str(storey)\n",
    "    help = 0\n",
    "\n",
    "    for i in range(len(tmp)):\n",
    "        num = int(tmp[-i]) + help\n",
    "\n",
    "        help = 0\n",
    "\n",
    "        if num > 5:\n",
    "            answer += 10 - num\n",
    "            help = 1\n",
    "        elif (num == 5 | i > 0):\n",
    "            if int(tmp[-(i+1)]) >= 5:\n",
    "                answer += num\n",
    "                help = 1\n",
    "            else:\n",
    "                answer += num\n",
    "        else:\n",
    "            answer += num\n",
    "\n",
    "    if (help > 0):\n",
    "        answer += help\n",
    "    return answer"
   ]
  },
  {
   "cell_type": "code",
   "execution_count": 371,
   "metadata": {},
   "outputs": [],
   "source": [
    "def solution4(storey):\n",
    "    print(storey)\n",
    "    if storey < 10 :\n",
    "        return min(storey, 11 - storey)\n",
    "    left = storey % 10\n",
    "    return min(left + solution4(storey // 10), 10 - left + solution4(storey // 10 + 1))"
   ]
  },
  {
   "cell_type": "code",
   "execution_count": 361,
   "metadata": {},
   "outputs": [],
   "source": [
    "def solution5(storey):\n",
    "    cnt = 0\n",
    "    num = '0' + str(storey)     # '0'은 index error 방지\n",
    "    cnt = [0 for _ in range(len(num)+1)]\n",
    "    # 1의 자리수부터 비교\n",
    "    for c in range(len(num)):\n",
    "        n = int(num[-1-c])      # 10^c 자리수의 숫자\n",
    "        if n + cnt[c] < 5:\n",
    "            cnt[c] += n\n",
    "        elif n + cnt[c] > 5:\n",
    "            cnt[c] = 10-n-cnt[c]\n",
    "            cnt[c+1] += 1\n",
    "        else:\n",
    "            if int(num[-2-c]) >= 5:     # 10^(c+1) 자리수의 숫자가 5보다 크거나 같은 경우\n",
    "                cnt[c] += 10-n\n",
    "                cnt[c+1] += 1\n",
    "            else:\n",
    "                cnt[c] += n\n",
    "\n",
    "    return sum(cnt)"
   ]
  },
  {
   "cell_type": "code",
   "execution_count": 365,
   "metadata": {},
   "outputs": [],
   "source": [
    "import sys\n",
    "sys.setrecursionlimit(100000)\n",
    "\n",
    "tmp = []\n",
    "\n",
    "def get_cnt(n):\n",
    "    tmp.append(n)\n",
    "    if n == 0 :\n",
    "        return 0\n",
    "    if n == 1 :\n",
    "        return 1\n",
    "\n",
    "    mok = n // 10\n",
    "    mod = n % 10\n",
    "\n",
    "    tmp.append(n)\n",
    "    return min(get_cnt(mok) + mod, get_cnt(mok+1) + (10 - mod))\n",
    "\n",
    "\n",
    "\n",
    "def solution(storey):\n",
    "    try : \n",
    "        get_cnt(storey)\n",
    "    except : \n",
    "        return tmp[:100]\n",
    "\n",
    "    return get_cnt(storey)"
   ]
  },
  {
   "cell_type": "code",
   "execution_count": 4,
   "metadata": {},
   "outputs": [],
   "source": [
    "def test(n):\n",
    "    n += 1\n",
    "    if n > 1000:\n",
    "        return n\n",
    "    else:\n",
    "        return test(n)"
   ]
  },
  {
   "cell_type": "code",
   "execution_count": 5,
   "metadata": {},
   "outputs": [
    {
     "data": {
      "text/plain": [
       "1001"
      ]
     },
     "execution_count": 5,
     "metadata": {},
     "output_type": "execute_result"
    }
   ],
   "source": [
    "test(0)"
   ]
  },
  {
   "cell_type": "code",
   "execution_count": null,
   "metadata": {},
   "outputs": [],
   "source": []
  }
 ],
 "metadata": {
  "kernelspec": {
   "display_name": "Python 3",
   "language": "python",
   "name": "python3"
  },
  "language_info": {
   "codemirror_mode": {
    "name": "ipython",
    "version": 3
   },
   "file_extension": ".py",
   "mimetype": "text/x-python",
   "name": "python",
   "nbconvert_exporter": "python",
   "pygments_lexer": "ipython3",
   "version": "3.9.13 (tags/v3.9.13:6de2ca5, May 17 2022, 16:36:42) [MSC v.1929 64 bit (AMD64)]"
  },
  "orig_nbformat": 4,
  "vscode": {
   "interpreter": {
    "hash": "4cff3abf1678755e0069fd79299a535fe1940bcd71a6b01d9f4386710b2b163f"
   }
  }
 },
 "nbformat": 4,
 "nbformat_minor": 2
}
