{
 "cells": [
  {
   "attachments": {},
   "cell_type": "markdown",
   "metadata": {},
   "source": [
    "Install Module"
   ]
  },
  {
   "cell_type": "code",
   "execution_count": null,
   "metadata": {},
   "outputs": [],
   "source": [
    "# !pip install beautifulsoup4\n",
    "# !pip install requests"
   ]
  },
  {
   "cell_type": "code",
   "execution_count": null,
   "metadata": {},
   "outputs": [],
   "source": [
    "from requests import get\n",
    "from bs4 import BeautifulSoup"
   ]
  },
  {
   "cell_type": "code",
   "execution_count": null,
   "metadata": {},
   "outputs": [],
   "source": [
    "# base_url = \"https://www.google.co.kr/search?q=\"\n",
    "base_url = \"https://weworkremotely.com/remote-jobs/search?term=\"\n",
    "search_term = \"python\""
   ]
  },
  {
   "cell_type": "code",
   "execution_count": null,
   "metadata": {},
   "outputs": [],
   "source": [
    "response = get(f\"{base_url}{search_term}\")\n",
    "\n",
    "if response.status_code != 200:\n",
    "    print(\"Can't request website\")\n",
    "else:\n",
    "    print(response.text)"
   ]
  },
  {
   "cell_type": "code",
   "execution_count": null,
   "metadata": {},
   "outputs": [],
   "source": [
    "response = get(f\"{base_url}{search_term}\")\n",
    "\n",
    "if response.status_code != 200:\n",
    "    print(\"Can't request website\")\n",
    "else:\n",
    "    # print(response.text)\n",
    "    soup = BeautifulSoup(response.text, \"html.parser\")\n",
    "    jobs = soup.find_all(\"section\", class_ = \"jobs\")"
   ]
  },
  {
   "cell_type": "code",
   "execution_count": null,
   "metadata": {},
   "outputs": [],
   "source": [
    "def say_hello(name, age):\n",
    "    print(f\"Hello {name} you are {age} years old\")"
   ]
  },
  {
   "cell_type": "code",
   "execution_count": null,
   "metadata": {},
   "outputs": [],
   "source": [
    "say_hello(\"hj\", 12)\n",
    "\n",
    "say_hello(name=\"hj\", age=12)\n",
    "say_hello(age=12, name=\"hj\")"
   ]
  },
  {
   "cell_type": "code",
   "execution_count": 16,
   "metadata": {},
   "outputs": [
    {
     "name": "stdout",
     "output_type": "stream",
     "text": [
      "{'company': 'OpenCraft', 'region': 'Anywhere in the World', 'position': 'Senior Open Source Developer & DevOps (Python, Django, React, AWS/OpenStack)'}\n",
      "{'company': 'Proxify AB', 'region': 'Anywhere in the World', 'position': 'Senior Python Engineer: Long-term job - 100% remote'}\n",
      "{'company': 'lemon.io', 'region': 'Latin America Only/Europe Only/Canada Only', 'position': 'Python Developer'}\n",
      "{'company': 'Optimile', 'region': 'Europe Only', 'position': '(Senior) Python Full Stack Software Developer'}\n",
      "{'company': 'NannyML', 'region': 'Anywhere in the World', 'position': 'Senior Full-stack Engineer with Python'}\n",
      "{'company': 'Ebury', 'region': 'Latin America Only/Europe Only', 'position': 'Senior Python Developer - Full Remote '}\n",
      "{'company': 'AssemblyAI (YC 17)', 'region': 'Anywhere in the World', 'position': 'Senior Software Engineer, Python'}\n",
      "{'company': 'Doximity', 'region': 'Americas Only', 'position': 'Python Platform Engineer'}\n"
     ]
    }
   ],
   "source": [
    "response = get(f\"{base_url}{search_term}\")\n",
    "\n",
    "if response.status_code != 200:\n",
    "    print(\"Can't request website\")\n",
    "else:\n",
    "    results = []\n",
    "    # print(response.text)\n",
    "    soup = BeautifulSoup(response.text, \"html.parser\")\n",
    "    jobs = soup.find_all(\"section\", class_=\"jobs\")\n",
    "    \n",
    "    for job_section in jobs:\n",
    "        job_posts = job_section.find_all('li')\n",
    "        job_posts.pop(-1)\n",
    "\n",
    "        for post in job_posts:\n",
    "            # print(post)\n",
    "            anchors = post.find_all('a')\n",
    "            anchor = anchors[1]\n",
    "            link = anchor['href']\n",
    "            company, kind, region = anchor.find_all('span', class_='company')\n",
    "            # print(company, kind, region)\n",
    "            \n",
    "            title = anchor.find('span', class_='title')\n",
    "            job_data = {\n",
    "                'link' : link,\n",
    "                'company' : company.string,\n",
    "                'region' : region.string,\n",
    "                'position' : title.string\n",
    "            }\n",
    "            results.append(job_data)\n",
    "    \n",
    "    for result in results:\n",
    "        print(result)"
   ]
  }
 ],
 "metadata": {
  "kernelspec": {
   "display_name": "main",
   "language": "python",
   "name": "python3"
  },
  "language_info": {
   "codemirror_mode": {
    "name": "ipython",
    "version": 3
   },
   "file_extension": ".py",
   "mimetype": "text/x-python",
   "name": "python",
   "nbconvert_exporter": "python",
   "pygments_lexer": "ipython3",
   "version": "3.9.15 (main, Nov 24 2022, 14:39:17) [MSC v.1916 64 bit (AMD64)]"
  },
  "orig_nbformat": 4,
  "vscode": {
   "interpreter": {
    "hash": "47ee33c69adc88257f74d1ad150994eceff09603a6afb515d7e52449cdfb6c29"
   }
  }
 },
 "nbformat": 4,
 "nbformat_minor": 2
}
